{
 "cells": [
  {
   "cell_type": "code",
   "execution_count": 102,
   "metadata": {},
   "outputs": [],
   "source": [
    "import random\n",
    "\n",
    "OPERATIONS = [\"nor_conv_3x3\", \"avg_pool_3x3\", \"skip_connect\"]\n",
    "\n",
    "class Architecture:\n",
    "    def __init__(self, arch_str=None):\n",
    "        if arch_str is None:\n",
    "            self._init_arch()\n",
    "        else:\n",
    "            self.arch_str = arch_str\n",
    "        \n",
    "    def _init_arch(self):\n",
    "        base_str = \"|\"\n",
    "        for i in range(3):\n",
    "            for j in range(i+1):\n",
    "                op = random.choice(OPERATIONS)\n",
    "                base_str = base_str + op + \"~\" + str(j) +\"|\"\n",
    "            base_str = base_str + \"+\" + \"|\"\n",
    "        base_str = base_str[:-2]\n",
    "        self.arch_str = base_str\n",
    "\n",
    "    def get_child(self):\n",
    "        indexes = [1, 3, 4, 6, 7, 8]\n",
    "        splitted = self.arch_str.split('|')\n",
    "        to_mutate = random.choice(indexes)\n",
    "        new_op = random.choice(OPERATIONS)\n",
    "        op_link = splitted[to_mutate].split('~')\n",
    "        op_link[0]=new_op\n",
    "        new_op_link = \"~\".join(op_link)\n",
    "        splitted[to_mutate] = new_op_link\n",
    "        child_str = \"|\".join(splitted)\n",
    "        return Architecture(arch_str=child_str)"
   ]
  },
  {
   "cell_type": "code",
   "execution_count": null,
   "metadata": {},
   "outputs": [],
   "source": []
  }
 ],
 "metadata": {
  "kernelspec": {
   "display_name": "these",
   "language": "python",
   "name": "python3"
  },
  "language_info": {
   "codemirror_mode": {
    "name": "ipython",
    "version": 3
   },
   "file_extension": ".py",
   "mimetype": "text/x-python",
   "name": "python",
   "nbconvert_exporter": "python",
   "pygments_lexer": "ipython3",
   "version": "3.12.2"
  }
 },
 "nbformat": 4,
 "nbformat_minor": 2
}
